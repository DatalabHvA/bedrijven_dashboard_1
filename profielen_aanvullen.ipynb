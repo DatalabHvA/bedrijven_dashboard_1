{
 "cells": [
  {
   "cell_type": "code",
   "execution_count": 30,
   "id": "26093ecd-bc0a-43e4-8332-bf51e075464f",
   "metadata": {},
   "outputs": [],
   "source": [
    "import pandas as pd\n",
    "import numpy as np"
   ]
  },
  {
   "cell_type": "code",
   "execution_count": 31,
   "id": "f268c121-e784-4b75-a40b-2fb05c01a654",
   "metadata": {},
   "outputs": [
    {
     "data": {
      "text/html": [
       "<div>\n",
       "<style scoped>\n",
       "    .dataframe tbody tr th:only-of-type {\n",
       "        vertical-align: middle;\n",
       "    }\n",
       "\n",
       "    .dataframe tbody tr th {\n",
       "        vertical-align: top;\n",
       "    }\n",
       "\n",
       "    .dataframe thead th {\n",
       "        text-align: right;\n",
       "    }\n",
       "</style>\n",
       "<table border=\"1\" class=\"dataframe\">\n",
       "  <thead>\n",
       "    <tr style=\"text-align: right;\">\n",
       "      <th></th>\n",
       "      <th>INDUSTRIE</th>\n",
       "      <th>KANTOOR_ONDERWIJS</th>\n",
       "      <th>LOGISTIEK</th>\n",
       "      <th>OVERIG</th>\n",
       "      <th>LADEN NORMAAL</th>\n",
       "      <th>LADEN SMART</th>\n",
       "    </tr>\n",
       "    <tr>\n",
       "      <th>datetime</th>\n",
       "      <th></th>\n",
       "      <th></th>\n",
       "      <th></th>\n",
       "      <th></th>\n",
       "      <th></th>\n",
       "      <th></th>\n",
       "    </tr>\n",
       "  </thead>\n",
       "  <tbody>\n",
       "    <tr>\n",
       "      <th>2023-01-01 00:00:00</th>\n",
       "      <td>0.000047</td>\n",
       "      <td>0.000089</td>\n",
       "      <td>0.000058</td>\n",
       "      <td>0.000069</td>\n",
       "      <td>0.000061</td>\n",
       "      <td>0.000168</td>\n",
       "    </tr>\n",
       "    <tr>\n",
       "      <th>2023-01-01 01:00:00</th>\n",
       "      <td>0.000047</td>\n",
       "      <td>0.000088</td>\n",
       "      <td>0.000060</td>\n",
       "      <td>0.000068</td>\n",
       "      <td>0.000030</td>\n",
       "      <td>0.000167</td>\n",
       "    </tr>\n",
       "    <tr>\n",
       "      <th>2023-01-01 02:00:00</th>\n",
       "      <td>0.000047</td>\n",
       "      <td>0.000088</td>\n",
       "      <td>0.000062</td>\n",
       "      <td>0.000067</td>\n",
       "      <td>0.000017</td>\n",
       "      <td>0.000166</td>\n",
       "    </tr>\n",
       "    <tr>\n",
       "      <th>2023-01-01 03:00:00</th>\n",
       "      <td>0.000047</td>\n",
       "      <td>0.000086</td>\n",
       "      <td>0.000060</td>\n",
       "      <td>0.000067</td>\n",
       "      <td>0.000007</td>\n",
       "      <td>0.000152</td>\n",
       "    </tr>\n",
       "    <tr>\n",
       "      <th>2023-01-01 04:00:00</th>\n",
       "      <td>0.000047</td>\n",
       "      <td>0.000088</td>\n",
       "      <td>0.000061</td>\n",
       "      <td>0.000069</td>\n",
       "      <td>0.000006</td>\n",
       "      <td>0.000134</td>\n",
       "    </tr>\n",
       "  </tbody>\n",
       "</table>\n",
       "</div>"
      ],
      "text/plain": [
       "                     INDUSTRIE  KANTOOR_ONDERWIJS  LOGISTIEK    OVERIG  \\\n",
       "datetime                                                                 \n",
       "2023-01-01 00:00:00   0.000047           0.000089   0.000058  0.000069   \n",
       "2023-01-01 01:00:00   0.000047           0.000088   0.000060  0.000068   \n",
       "2023-01-01 02:00:00   0.000047           0.000088   0.000062  0.000067   \n",
       "2023-01-01 03:00:00   0.000047           0.000086   0.000060  0.000067   \n",
       "2023-01-01 04:00:00   0.000047           0.000088   0.000061  0.000069   \n",
       "\n",
       "                     LADEN NORMAAL  LADEN SMART  \n",
       "datetime                                         \n",
       "2023-01-01 00:00:00       0.000061     0.000168  \n",
       "2023-01-01 01:00:00       0.000030     0.000167  \n",
       "2023-01-01 02:00:00       0.000017     0.000166  \n",
       "2023-01-01 03:00:00       0.000007     0.000152  \n",
       "2023-01-01 04:00:00       0.000006     0.000134  "
      ]
     },
     "execution_count": 31,
     "metadata": {},
     "output_type": "execute_result"
    }
   ],
   "source": [
    "df = pd.read_excel('profielen_RWS.xlsx')\n",
    "df['datetime'] = pd.to_datetime(df['datetime'])\n",
    "df.set_index('datetime', inplace = True)\n",
    "df.head()"
   ]
  },
  {
   "cell_type": "code",
   "execution_count": 32,
   "id": "ce4ba216-3a0a-4cf6-b84d-a36f454fddb5",
   "metadata": {},
   "outputs": [],
   "source": [
    "df['POSTNL'] = np.where(df.index.hour.isin([1,2,3]),1,0)\n",
    "df['POSTNL'] = df['POSTNL']/(df['POSTNL'].sum())"
   ]
  },
  {
   "cell_type": "code",
   "execution_count": 33,
   "id": "0fc9836d-9fa3-40d8-ba07-99ccd2452a6b",
   "metadata": {},
   "outputs": [
    {
     "data": {
      "text/plain": [
       "[6, 7, 8, 9, 10, 11, 12, 13, 14, 15, 16]"
      ]
     },
     "execution_count": 33,
     "metadata": {},
     "output_type": "execute_result"
    }
   ],
   "source": [
    "[i for i in range(6,17)]"
   ]
  },
  {
   "cell_type": "code",
   "execution_count": 34,
   "id": "d0d23eb3-bd9d-429c-b46c-4b3f9ba2f1dc",
   "metadata": {},
   "outputs": [],
   "source": [
    "df['SLIGRO']= np.where(df.index.hour.isin([i for i in range(17,19)]),1,0)\n",
    "df['SLIGRO'] = df['SLIGRO']/(df['SLIGRO'].sum())"
   ]
  },
  {
   "cell_type": "code",
   "execution_count": 35,
   "id": "41fe0780-b22d-4368-bbea-b2c071e131a3",
   "metadata": {},
   "outputs": [],
   "source": [
    "df['SLIGRO SMART']= np.where(df.index.hour.isin([i for i in range(6,17)]),0,1)\n",
    "df['SLIGRO SMART'] = df['SLIGRO SMART']/(df['SLIGRO SMART'].sum())"
   ]
  },
  {
   "cell_type": "code",
   "execution_count": 36,
   "id": "f69622fa-6599-4c4d-b71d-fb7166e960ae",
   "metadata": {},
   "outputs": [],
   "source": [
    "df['HULSHOFF SMART']= np.where(df.index.hour.isin([i for i in range(6,20)]),0,1)\n",
    "df['HULSHOFF SMART'] = df['HULSHOFF SMART']/(df['HULSHOFF SMART'].sum())"
   ]
  },
  {
   "cell_type": "code",
   "execution_count": 37,
   "id": "d0a2bd41-dc1e-49d6-ae8b-0b56c92c058b",
   "metadata": {},
   "outputs": [],
   "source": [
    "df['HULSHOFF']= np.where(df.index.hour.isin([i for i in range(2,20)]),0,1)\n",
    "df['HULSHOFF'] = df['HULSHOFF']/(df['HULSHOFF'].sum())"
   ]
  },
  {
   "cell_type": "code",
   "execution_count": 38,
   "id": "8e7d25f6-bdcd-41b0-b8a5-c1af4c75fbb7",
   "metadata": {},
   "outputs": [
    {
     "data": {
      "text/plain": [
       "<Axes: xlabel='datetime'>"
      ]
     },
     "execution_count": 38,
     "metadata": {},
     "output_type": "execute_result"
    },
    {
     "data": {
      "image/png": "[encoded data removed]",
      "text/plain": [
       "<Figure size 640x480 with 1 Axes>"
      ]
     },
     "metadata": {},
     "output_type": "display_data"
    }
   ],
   "source": [
    "df['HULSHOFF'].loc['2023-01-01'].plot()"
   ]
  },
  {
   "cell_type": "code",
   "execution_count": 39,
   "id": "a5bd6809-bde2-460d-9251-98243b15256a",
   "metadata": {},
   "outputs": [],
   "source": [
    "df.reset_index().to_excel('profielen_RWS_v2.xlsx')"
   ]
  },
  {
   "cell_type": "code",
   "execution_count": 40,
   "id": "ecc32fd7-f350-4b4b-962f-f4da129592ce",
   "metadata": {},
   "outputs": [
    {
     "data": {
      "text/html": [
       "<div>\n",
       "<style scoped>\n",
       "    .dataframe tbody tr th:only-of-type {\n",
       "        vertical-align: middle;\n",
       "    }\n",
       "\n",
       "    .dataframe tbody tr th {\n",
       "        vertical-align: top;\n",
       "    }\n",
       "\n",
       "    .dataframe thead th {\n",
       "        text-align: right;\n",
       "    }\n",
       "</style>\n",
       "<table border=\"1\" class=\"dataframe\">\n",
       "  <thead>\n",
       "    <tr style=\"text-align: right;\">\n",
       "      <th></th>\n",
       "      <th>INDUSTRIE</th>\n",
       "      <th>KANTOOR_ONDERWIJS</th>\n",
       "      <th>LOGISTIEK</th>\n",
       "      <th>OVERIG</th>\n",
       "      <th>LADEN NORMAAL</th>\n",
       "      <th>LADEN SMART</th>\n",
       "      <th>POSTNL</th>\n",
       "      <th>SLIGRO</th>\n",
       "      <th>SLIGRO SMART</th>\n",
       "      <th>HULSHOFF SMART</th>\n",
       "      <th>HULSHOFF</th>\n",
       "    </tr>\n",
       "    <tr>\n",
       "      <th>datetime</th>\n",
       "      <th></th>\n",
       "      <th></th>\n",
       "      <th></th>\n",
       "      <th></th>\n",
       "      <th></th>\n",
       "      <th></th>\n",
       "      <th></th>\n",
       "      <th></th>\n",
       "      <th></th>\n",
       "      <th></th>\n",
       "      <th></th>\n",
       "    </tr>\n",
       "  </thead>\n",
       "  <tbody>\n",
       "    <tr>\n",
       "      <th>2023-01-01 00:00:00</th>\n",
       "      <td>0.000047</td>\n",
       "      <td>0.000089</td>\n",
       "      <td>0.000058</td>\n",
       "      <td>0.000069</td>\n",
       "      <td>0.000061</td>\n",
       "      <td>0.000168</td>\n",
       "      <td>0.000000</td>\n",
       "      <td>0.0</td>\n",
       "      <td>0.000211</td>\n",
       "      <td>0.000274</td>\n",
       "      <td>0.000457</td>\n",
       "    </tr>\n",
       "    <tr>\n",
       "      <th>2023-01-01 01:00:00</th>\n",
       "      <td>0.000047</td>\n",
       "      <td>0.000088</td>\n",
       "      <td>0.000060</td>\n",
       "      <td>0.000068</td>\n",
       "      <td>0.000030</td>\n",
       "      <td>0.000167</td>\n",
       "      <td>0.000913</td>\n",
       "      <td>0.0</td>\n",
       "      <td>0.000211</td>\n",
       "      <td>0.000274</td>\n",
       "      <td>0.000457</td>\n",
       "    </tr>\n",
       "    <tr>\n",
       "      <th>2023-01-01 02:00:00</th>\n",
       "      <td>0.000047</td>\n",
       "      <td>0.000088</td>\n",
       "      <td>0.000062</td>\n",
       "      <td>0.000067</td>\n",
       "      <td>0.000017</td>\n",
       "      <td>0.000166</td>\n",
       "      <td>0.000913</td>\n",
       "      <td>0.0</td>\n",
       "      <td>0.000211</td>\n",
       "      <td>0.000274</td>\n",
       "      <td>0.000000</td>\n",
       "    </tr>\n",
       "    <tr>\n",
       "      <th>2023-01-01 03:00:00</th>\n",
       "      <td>0.000047</td>\n",
       "      <td>0.000086</td>\n",
       "      <td>0.000060</td>\n",
       "      <td>0.000067</td>\n",
       "      <td>0.000007</td>\n",
       "      <td>0.000152</td>\n",
       "      <td>0.000913</td>\n",
       "      <td>0.0</td>\n",
       "      <td>0.000211</td>\n",
       "      <td>0.000274</td>\n",
       "      <td>0.000000</td>\n",
       "    </tr>\n",
       "    <tr>\n",
       "      <th>2023-01-01 04:00:00</th>\n",
       "      <td>0.000047</td>\n",
       "      <td>0.000088</td>\n",
       "      <td>0.000061</td>\n",
       "      <td>0.000069</td>\n",
       "      <td>0.000006</td>\n",
       "      <td>0.000134</td>\n",
       "      <td>0.000000</td>\n",
       "      <td>0.0</td>\n",
       "      <td>0.000211</td>\n",
       "      <td>0.000274</td>\n",
       "      <td>0.000000</td>\n",
       "    </tr>\n",
       "  </tbody>\n",
       "</table>\n",
       "</div>"
      ],
      "text/plain": [
       "                     INDUSTRIE  KANTOOR_ONDERWIJS  LOGISTIEK    OVERIG  \\\n",
       "datetime                                                                 \n",
       "2023-01-01 00:00:00   0.000047           0.000089   0.000058  0.000069   \n",
       "2023-01-01 01:00:00   0.000047           0.000088   0.000060  0.000068   \n",
       "2023-01-01 02:00:00   0.000047           0.000088   0.000062  0.000067   \n",
       "2023-01-01 03:00:00   0.000047           0.000086   0.000060  0.000067   \n",
       "2023-01-01 04:00:00   0.000047           0.000088   0.000061  0.000069   \n",
       "\n",
       "                     LADEN NORMAAL  LADEN SMART    POSTNL  SLIGRO  \\\n",
       "datetime                                                            \n",
       "2023-01-01 00:00:00       0.000061     0.000168  0.000000     0.0   \n",
       "2023-01-01 01:00:00       0.000030     0.000167  0.000913     0.0   \n",
       "2023-01-01 02:00:00       0.000017     0.000166  0.000913     0.0   \n",
       "2023-01-01 03:00:00       0.000007     0.000152  0.000913     0.0   \n",
       "2023-01-01 04:00:00       0.000006     0.000134  0.000000     0.0   \n",
       "\n",
       "                     SLIGRO SMART  HULSHOFF SMART  HULSHOFF  \n",
       "datetime                                                     \n",
       "2023-01-01 00:00:00      0.000211        0.000274  0.000457  \n",
       "2023-01-01 01:00:00      0.000211        0.000274  0.000457  \n",
       "2023-01-01 02:00:00      0.000211        0.000274  0.000000  \n",
       "2023-01-01 03:00:00      0.000211        0.000274  0.000000  \n",
       "2023-01-01 04:00:00      0.000211        0.000274  0.000000  "
      ]
     },
     "execution_count": 40,
     "metadata": {},
     "output_type": "execute_result"
    }
   ],
   "source": [
    "df.head()"
   ]
  },
  {
   "cell_type": "code",
   "execution_count": null,
   "id": "c2f9f3cf-fcda-4e3e-9cd9-fd1c62460621",
   "metadata": {},
   "outputs": [],
   "source": []
  }
 ],
 "metadata": {
  "kernelspec": {
   "display_name": "Python 3 (ipykernel)",
   "language": "python",
   "name": "python3"
  },
  "language_info": {
   "codemirror_mode": {
    "name": "ipython",
    "version": 3
   },
   "file_extension": ".py",
   "mimetype": "text/x-python",
   "name": "python",
   "nbconvert_exporter": "python",
   "pygments_lexer": "ipython3",
   "version": "3.11.5"
  }
 },
 "nbformat": 4,
 "nbformat_minor": 5
}
